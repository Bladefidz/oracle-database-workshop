{
 "cells": [
  {
   "cell_type": "markdown",
   "metadata": {},
   "source": [
    "Database administration does not end after the database is configured, we also need to do database protection by designing a backup and recovery strategy, and how to monitor the database to ensure it operates smoothly.\n",
    "\n",
    "Relational Database Management Systems (RDBMS) used **Codd's model** as definitive model. A codd's model introduced by Dr. E. F. Codd in \"A Relational Model of Data for Large Shared Data Back\", in June, 1970. Later, IBM developer a strutured English query language called SEQUEL to use codd's model. In 1979, Relational Software, Inc (now Oracle Corporation) introduced the first commercially available implementation of SQL. Today, SQL is accepted as the standard RDBMS language.\n",
    "\n",
    "**Referential integrity** is a mandatory relationship in relational database which can be used to reduce redudancy. For example, we used one to many relationship in the case of  relationship between employee and department since a department may has many employees. Instead store each department information into each row in the employee's table, we create a department table, then create a common column in the employee table which is pointing to a row in the department table. A common column is a field contains a identifier to specific row in the department table. This identifier called as foreign key since it points to a roe in a different (foreign) table, while a refered key in the foreign table called as primary key. This way each corresponding row in the employee table will point to one and only one row in the department table.\n",
    "\n",
    "**Integrity constraints** is definitive rules that can be used to ensure valid data is stored in database tables. Oracle Database 10g suppoerts the following types of constraints:\n",
    "1. *NOT NULL*: Disalows nulls (empty entries) in a tables's column.\n",
    "2. *UNIQUE*: Disallows duplicate values in a column or set of column.\n",
    "3. *PRIMARY KEY*: Disallows duplicate values and nulls in a column or set of columns.\n",
    "4. *FOREIGN KEY*: Requires each value in a column or set of columns to match a value in a related table's *UNIQUE* or *PRIMARY KEY*, *FOREIGN KEY* integrity constraints also deine referential integrity actions that dictate what Oracle should do with dependent data if the data it references is altered.\n",
    "5. *CHECK*: Disallows values that do not satisfy the locgical expression of the constraint.\n",
    "\n",
    "**Structured Query Language (SQL)** enables us to work with data at the logical level. SQL will covered in more detail in \"Database Interfaces\" section. Also refer the *Oracle Database SQL Reference* for additional information.\n",
    "\n",
    "The following tasks present a prioritozed approach for deseigning, implementing an Oracle Database:\n",
    "1. Evaluate the Database server hardware\n",
    "2. Install the Oracle Database software\n",
    "3. Plan the database\n",
    "4. Create and open the database\n",
    "5. Back up the database\n",
    "6. Enroll system database\n",
    "7. Implement the database design\n",
    "8. Back up the functional database\n",
    "9. Tune database performance\n",
    "10. Download and install patches\n",
    "11. Roll out to additional hosts\n",
    "\n",
    "Refer to part I section 1 in *Oracle Database Administrator's Guide 10g Release 2* for the discussion about each task."
   ]
  },
  {
   "cell_type": "code",
   "execution_count": null,
   "metadata": {},
   "outputs": [],
   "source": []
  }
 ],
 "metadata": {
  "kernelspec": {
   "display_name": "Python 3",
   "language": "python",
   "name": "python3"
  },
  "language_info": {
   "codemirror_mode": {
    "name": "ipython",
    "version": 3
   },
   "file_extension": ".py",
   "mimetype": "text/x-python",
   "name": "python",
   "nbconvert_exporter": "python",
   "pygments_lexer": "ipython3",
   "version": "3.5.2"
  }
 },
 "nbformat": 4,
 "nbformat_minor": 2
}
