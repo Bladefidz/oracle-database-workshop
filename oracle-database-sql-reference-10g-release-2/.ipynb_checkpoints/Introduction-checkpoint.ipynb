{
 "cells": [
  {
   "cell_type": "markdown",
   "metadata": {},
   "source": [
    "Structured Query Language (SQL) is the set of statement with which all programs and users access data in an Oracle database. Application programs and Oracle tools often allow users access to the database without using SQL directly, but these applications in turn must use SQL when executing the user's request.\n",
    "\n",
    "SQL commercially developed by IBM since 1979 based on a model introduced by Dr. E. F. Codd in \"A Relational Model of Data for Large Shared Data Banks\", in Junie 1970.\n",
    "\n",
    "SQL is accepted as standard RDBMS language. Oracle developed accepted industry standard RDMS and aprticipates actively in SQL standards committees. Industry-accepted committees are the American National Standards Institure (ANSI) and the International Organization for Standardization (ISO) which is affiliated with the International Electrotetchnical Commission (IEC). New SQL standard produced simulately by these organizations which some might differs in philosopy (names, version, etc), but the standards are technically identical.\n",
    "\n",
    "SQL differs from general-purpose programming languages like C and BASIC. Among the features of SQL are the following:\n",
    "\n",
    "1. It processes sets of data as groups rather than as individual units.\n",
    "2. It provides automatic navigation to the data.\n",
    "3. It uses statements that are complex and powerful individually, and that therefore stand alone. Example: Flow-control statements are commonly known as \"persistent stored modules\" (PSM), and the PL/SQL extension to Oracle SQL is similar to PSM.\n",
    "\n",
    "All SQL statements use **optimizer**, a part of Oracle Database that determine the most efficient means of accessing the specified data. Oracle also provides techniques that you can use to make the optimizer perform its job better.\n",
    "\n",
    "Since SQL has been standarized, most RDBMS that support SQL might maintenance indetical SQL standards. This advantage that allow us to adapt current SQL logic into new RDBMS environtment with very little modifications. Thus, SQL itself is portable."
   ]
  },
  {
   "cell_type": "code",
   "execution_count": null,
   "metadata": {},
   "outputs": [],
   "source": []
  }
 ],
 "metadata": {
  "kernelspec": {
   "display_name": "Python 3",
   "language": "python",
   "name": "python3"
  },
  "language_info": {
   "codemirror_mode": {
    "name": "ipython",
    "version": 3
   },
   "file_extension": ".py",
   "mimetype": "text/x-python",
   "name": "python",
   "nbconvert_exporter": "python",
   "pygments_lexer": "ipython3",
   "version": "3.5.2"
  }
 },
 "nbformat": 4,
 "nbformat_minor": 2
}
