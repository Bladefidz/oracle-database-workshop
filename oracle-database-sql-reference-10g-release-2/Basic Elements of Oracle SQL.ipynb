{
 "cells": [
  {
   "cell_type": "markdown",
   "metadata": {},
   "source": [
    "## Datatypes\n",
    "\n",
    "Oracle Database provides a number of built-in datatypes as well as several categories for user-defined types that can be used as datatypes. The syntax of Oracle datatypes apperas in the diagrams follow:\n",
    "\n",
    "A datatype is either **scalar** or **nonscalar**. A scalar type contains an atomic value, whereas a nonscalar (sometimes called as a 'collection') contains a set of values. A **Large Object** (LOB) is a special form of scalar datatype representing a large scalar value of binary ofr character data. **External datatypes** is datatypes that recognized by Oracle precomplilers in embedded SQL programs. For more detail information about Oracle datatypes, see *Pro C/C++ Programmer's Guide*.\n",
    "\n",
    "<img src='img/introduction/datatypes.png'>\n",
    "\n",
    "<img src='img/introduction/character-datatypes.png'>\n",
    "To ensure well-formed string in *CHAR* and *NCHAR* datatype which is fixed-length encoding, please refer to *Oracle Database Globalization Support Guide*. This reference might be usefull if we are working with unicode encoding or other encodings.\n",
    "A term *National Character Set* in *NCHAR* datatype refers to an alternative character set that enable us to store unicode character data into a database that does not have a unicode database character set. While *NVARCHAR2* datatype is a unicode-only datattype which we should specify how many character a coressponding NVARCHAR2 column can hold. Both NVARCHAR2 and VARCHAR2 are variable-length encodings.\n",
    "\n",
    "<img src='img/introduction/number-datatypes.png'>\n",
    "A *NUMBER* datatype within range 1.0x10^-130 to 1.0x10^126 declared as a function **NUMBER(p, s)**, where *p* stand for precission (39 or 40 decimal digits) and *s* stand for scale (-84 to 127).\n",
    "Unlike in common programming languages, Oracle *FLOAT-POINT Numbers* datatype do not conform to IEEE754 in the following areas:\n",
    "* -0 is coerced to +0\n",
    "* Comparison with *NaN* is not supported.\n",
    "* All *NaN* values are coerced to either *BINARY_FLOAT_NAN* or *BINARY_DOUBLE_NAN*\n",
    "* Non-default rounding modes are not supported\n",
    "* Non-default exception handling mode are not supported\n",
    "\n",
    "<img src='img/introduction/long-and-row-datatypes.png'>\n",
    "**LONG** datatypes have many restrications than using **LOB**, so create LOB column instead.\n",
    "\n",
    "<img src='img/introduction/datetime-datatypes.png'>\n",
    "The datetime datatypes are **DATE**, **TIMESTAMP**. **TIMESTAMP WITH TIME ZONE**, and **TIMESTAMP WITH LOCAL TIME ZONE**. Their values also caled as **datetimes**. The interval datatypes are **INTERVAL YEAR TO MONTH** and **INTERVAL DAY TO SECOND**. The interval datatypes are sometimes called **intervals**.\n",
    "To avoid unexpected results in our DML operations on datettime data, we can verify the database and session time zones by querying the built-in SQL functions **DBTIMEZONE** and **SESSIONTIMEZONE**. If the time zone have not been set manually, Oracle databse uses the operating system time zone by defult. If the operating system time zone is not a valid Oracle time zone, then Oracle uses UTC as the default value.\n",
    "For more information on Oracle time zone data, please refer to *Oracle Database Globalization Support Guide*. For examples of using datetime datatype, please refer to *Oracle Database Application Developer's Guide - Fundamental*.\n",
    "\n",
    "<img src='img/introduction/large-object-datatypes.png'>\n",
    "<img src='img/introduction/rowid-datatypes.png'>\n",
    "<img src='img/introduction/ansi-supported-datatypes.png'>\n",
    "<img src='img/introduction/oracle-suplied-types.png'>\n",
    "<img src='img/introduction/any-types.png'>\n",
    "<img src='img/introduction/xml-types.png'>\n",
    "<img src='img/introduction/spatial-types.png'>\n",
    "<img src='img/introduction/media-types.png'>\n",
    "<img src='img/introduction/still-images-object-types.png'>\n",
    "<img src='img/introduction/still-images-object-types.png'>\n"
   ]
  },
  {
   "cell_type": "markdown",
   "metadata": {},
   "source": []
  }
 ],
 "metadata": {
  "kernelspec": {
   "display_name": "Python 3",
   "language": "python",
   "name": "python3"
  },
  "language_info": {
   "codemirror_mode": {
    "name": "ipython",
    "version": 3
   },
   "file_extension": ".py",
   "mimetype": "text/x-python",
   "name": "python",
   "nbconvert_exporter": "python",
   "pygments_lexer": "ipython3",
   "version": "3.5.2"
  }
 },
 "nbformat": 4,
 "nbformat_minor": 2
}
